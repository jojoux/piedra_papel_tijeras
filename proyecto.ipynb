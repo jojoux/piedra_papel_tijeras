{
 "cells": [
  {
   "cell_type": "code",
   "execution_count": 37,
   "metadata": {},
   "outputs": [
    {
     "name": "stdout",
     "output_type": "stream",
     "text": [
      "Empate\n"
     ]
    }
   ],
   "source": [
    "jugador_1 = input (\"jugador_uno:\")\n",
    "jugador_2 = input (\"jugador_dos:\")\n",
    "\n",
    "if (jugador_1 == \"piedra\") and (jugador_2 == \"papel\"):\n",
    "    print(\"jugador_dos gana\")\n",
    "\n",
    "if (jugador_1 == \"piedra\") and (jugador_2 == \"tijera\" ):\n",
    "    print(\"jugador_uno gana\")\n",
    "\n",
    "if (jugador_1 == \"papel\") and (jugador_2 == \"tijera\"):\n",
    "    print(\"jugador_dos gana\")\n",
    "\n",
    "if (jugador_1 == \"papel\") and (jugador_2 == \"piedra\"):\n",
    "    print(\"jugador_uno gana\")\n",
    "\n",
    "if (jugador_1 == \"tijera\") and (jugador_2 == \"piedra\"):\n",
    "    print(\"jugador_dos gana\")\n",
    "\n",
    "if (jugador_1 == \"tijera\") and (jugador_2 == \"papel\"):\n",
    "    print(\"jugador_uno gana\")\n",
    "\n",
    "if (jugador_1 == \"piedra\") and (jugador_2 == \"piedra\"):\n",
    "    print(\"Empate\")\n",
    "\n",
    "if (jugador_1 == \"papel\") and (jugador_2 == \"papel\"):\n",
    "    print(\"Empate\")\n",
    "\n",
    "if (jugador_1 == \"tijera\") and (jugador_2 == \"tijera\"):\n",
    "    print(\"Empate\")"
   ]
  }
 ],
 "metadata": {
  "kernelspec": {
   "display_name": "Python 3",
   "language": "python",
   "name": "python3"
  },
  "language_info": {
   "codemirror_mode": {
    "name": "ipython",
    "version": 3
   },
   "file_extension": ".py",
   "mimetype": "text/x-python",
   "name": "python",
   "nbconvert_exporter": "python",
   "pygments_lexer": "ipython3",
   "version": "3.12.4"
  }
 },
 "nbformat": 4,
 "nbformat_minor": 2
}
